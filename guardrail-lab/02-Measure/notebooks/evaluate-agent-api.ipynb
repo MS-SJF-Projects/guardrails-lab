{
 "cells": [
  {
   "cell_type": "markdown",
   "metadata": {},
   "source": [
    "## Evaluate against Chat API using prepared data"
   ]
  },
  {
   "cell_type": "markdown",
   "metadata": {},
   "source": [
    "### Update path and filenames"
   ]
  },
  {
   "cell_type": "code",
   "execution_count": 4,
   "metadata": {},
   "outputs": [],
   "source": [
    "import requests\n",
    "import json\n",
    "import pandas as pd\n",
    "from dotenv import load_dotenv\n",
    "\n",
    "load_dotenv()\n",
    "\n",
    "\n",
    "path_to_data = '../services/risk-data/'\n",
    "input_dataset_name = 'prompt_injection.csv' # Update this value if you want to use a different dataset\n",
    "output_dataset_name = 'prompt_injection_with_response.csv' # Update this value if you want to use a different name for the output dataset\n",
    "\n",
    "pd.set_option('display.max_colwidth', None)\n",
    "url = 'http://localhost:3000/chat'"
   ]
  },
  {
   "cell_type": "markdown",
   "metadata": {},
   "source": [
    "### Load the dataset and pass each row to the Chat API"
   ]
  },
  {
   "cell_type": "code",
   "execution_count": null,
   "metadata": {},
   "outputs": [],
   "source": [
    "df = pd.read_csv(f\"{path_to_data}/{input_dataset_name}\", sep=';', encoding='utf-8')\n",
    "\n",
    "for index, row in df.iterrows():\n",
    "    try:\n",
    "        # Assuming chat_history is a stringified JSON, parse it\n",
    "        chat_history_json = json.loads(row['chat_history'])\n",
    "    except json.JSONDecodeError as e:\n",
    "        print(f\"Error parsing chat_history at row {index}: {e}\")\n",
    "        continue\n",
    "    \n",
    "    json_body = {\n",
    "        \"user_request\": row['user_input'],\n",
    "        \"chat_history\": chat_history_json,\n",
    "        \"user_id\": 0\n",
    "    }\n",
    "\n",
    "    response = requests.post(url, headers={'accept': 'application/json', 'Content-type' : 'application/json'}, json=json_body)\n",
    "\n",
    "    if response.status_code == 200:\n",
    "        data = response.json()\n",
    "        print(\"Data retrieved from the API:\")\n",
    "        print(data)\n",
    "        df.at[index, 'agent_response'] = data\n",
    "    else:\n",
    "        print(f\"Failed to retrieve data. Status code: {response.status_code}\")\n",
    "        print(\"Response content:\", response.content)\n"
   ]
  },
  {
   "cell_type": "markdown",
   "metadata": {},
   "source": [
    "### Write dataframe to .csv file"
   ]
  },
  {
   "cell_type": "code",
   "execution_count": 3,
   "metadata": {},
   "outputs": [],
   "source": [
    "df.to_csv(f\"{path_to_data}/{output_dataset_name}\", sep=';', encoding='utf-8', index=False)"
   ]
  }
 ],
 "metadata": {
  "kernelspec": {
   "display_name": "Python 3 (ipykernel)",
   "language": "python",
   "name": "python3"
  },
  "language_info": {
   "codemirror_mode": {
    "name": "ipython",
    "version": 3
   },
   "file_extension": ".py",
   "mimetype": "text/x-python",
   "name": "python",
   "nbconvert_exporter": "python",
   "pygments_lexer": "ipython3",
   "version": "3.12.4"
  }
 },
 "nbformat": 4,
 "nbformat_minor": 4
}
